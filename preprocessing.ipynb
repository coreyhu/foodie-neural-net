{
 "cells": [
  {
   "cell_type": "code",
   "execution_count": 1,
   "metadata": {},
   "outputs": [],
   "source": [
    "from PIL import Image\n",
    "import os\n",
    "import h5py"
   ]
  },
  {
   "cell_type": "code",
   "execution_count": 2,
   "metadata": {
    "collapsed": true
   },
   "outputs": [],
   "source": [
    "filenames = [\"food-images/food_c101_n1000_r384x384x3.h5\", \n",
    "            \"food-images/food_c101_n10099_r32x32x3.h5\", \n",
    "            \"food-images/food_c101_n10099_r64x64x3.h5\", \n",
    "            \"food-images/food_test_c101_n1000_r32x32x3.h5\", \n",
    "            \"food-images/food_test_c101_n1000_r64x64x3.h5\", \n",
    "            \"food-images/food_test_c101_n1000_r128x128x3.h5\"]"
   ]
  },
  {
   "cell_type": "code",
   "execution_count": null,
   "metadata": {
    "collapsed": true
   },
   "outputs": [],
   "source": []
  },
  {
   "cell_type": "code",
   "execution_count": 3,
   "metadata": {
    "scrolled": true
   },
   "outputs": [],
   "source": [
    "img_dir = \"tmp/img\"\n",
    "count = 0\n",
    "\n",
    "for filename in filenames:\n",
    "    \n",
    "    dataset = h5py.File(filename, \"r\")\n",
    "    num_images = len(dataset['images'])\n",
    "    size = len(dataset['images'][0])\n",
    "    quality_val = 90\n",
    "    resize_size = 384        \n",
    "    \n",
    "    for i in range(num_images):\n",
    "        cat_index = list(dataset['category'][i]).index(True)\n",
    "        category = dataset['category_names'][cat_index].decode()\n",
    "        directory = '{}/{}'.format(img_dir, category)\n",
    "        \n",
    "        if not os.path.exists(directory):\n",
    "            os.makedirs(directory)\n",
    "            \n",
    "        im = Image.fromarray(dataset['images'][i])\n",
    "        im = im.resize((resize_size, resize_size), Image.ANTIALIAS)\n",
    "        im.save('{}/{}.jpg'.format(directory, count), 'JPEG', quality=quality_val)\n",
    "        count += 1"
   ]
  },
  {
   "cell_type": "code",
   "execution_count": 13,
   "metadata": {},
   "outputs": [],
   "source": [
    "labels = open(\"tmp/img/labels.txt\", 'a')\n",
    "for name in dataset['category_names']:\n",
    "    labels.write(name.decode() + '\\n')"
   ]
  },
  {
   "cell_type": "code",
   "execution_count": 14,
   "metadata": {
    "scrolled": true
   },
   "outputs": [
    {
     "name": "stdout",
     "output_type": "stream",
     "text": [
      "done.\n"
     ]
    }
   ],
   "source": [
    "print(\"done.\")"
   ]
  },
  {
   "cell_type": "code",
   "execution_count": null,
   "metadata": {
    "collapsed": true
   },
   "outputs": [],
   "source": []
  }
 ],
 "metadata": {
  "kernelspec": {
   "display_name": "Python 3",
   "language": "python",
   "name": "python3"
  },
  "language_info": {
   "codemirror_mode": {
    "name": "ipython",
    "version": 3
   },
   "file_extension": ".py",
   "mimetype": "text/x-python",
   "name": "python",
   "nbconvert_exporter": "python",
   "pygments_lexer": "ipython3",
   "version": "3.6.3"
  }
 },
 "nbformat": 4,
 "nbformat_minor": 2
}
